{
 "cells": [
  {
   "cell_type": "markdown",
   "metadata": {},
   "source": [
    "<h1>Updating the Knowledge Base</h1>"
   ]
  },
  {
   "cell_type": "code",
   "execution_count": 23,
   "metadata": {},
   "outputs": [],
   "source": [
    "# from kb.AN_KnowledgeBase import KnowledgeBaseManager\n",
    "from kb.AN_RL_KnowledgeBase import RLKnowledgeBaseManager\n",
    "from kb.utils import load_document\n",
    "import os\n",
    "import pandas as pd\n",
    "from chatbot.Narelle import Narelle"
   ]
  },
  {
   "cell_type": "code",
   "execution_count": 28,
   "metadata": {},
   "outputs": [],
   "source": [
    "# creating knowledge base\n",
    "kb = RLKnowledgeBaseManager()"
   ]
  },
  {
   "cell_type": "markdown",
   "metadata": {},
   "source": [
    "## Import Sample Questions and Answers"
   ]
  },
  {
   "cell_type": "code",
   "execution_count": 9,
   "metadata": {},
   "outputs": [
    {
     "data": {
      "text/html": [
       "<div>\n",
       "<style scoped>\n",
       "    .dataframe tbody tr th:only-of-type {\n",
       "        vertical-align: middle;\n",
       "    }\n",
       "\n",
       "    .dataframe tbody tr th {\n",
       "        vertical-align: top;\n",
       "    }\n",
       "\n",
       "    .dataframe thead th {\n",
       "        text-align: right;\n",
       "    }\n",
       "</style>\n",
       "<table border=\"1\" class=\"dataframe\">\n",
       "  <thead>\n",
       "    <tr style=\"text-align: right;\">\n",
       "      <th></th>\n",
       "      <th>question</th>\n",
       "      <th>answer</th>\n",
       "    </tr>\n",
       "  </thead>\n",
       "  <tbody>\n",
       "    <tr>\n",
       "      <th>0</th>\n",
       "      <td>Is this a Pass/Fail module?</td>\n",
       "      <td>No, it is not a Pass/Fail module. You will be ...</td>\n",
       "    </tr>\n",
       "    <tr>\n",
       "      <th>1</th>\n",
       "      <td>What are all the graded components for the cou...</td>\n",
       "      <td>Please note all the graded components carefull...</td>\n",
       "    </tr>\n",
       "    <tr>\n",
       "      <th>2</th>\n",
       "      <td>Will there be a final examination for the course?</td>\n",
       "      <td>No. This is a 100% Continuous Assessment (CA) ...</td>\n",
       "    </tr>\n",
       "    <tr>\n",
       "      <th>3</th>\n",
       "      <td>Will I get to know the marks for all the grade...</td>\n",
       "      <td>No, you will get to know the marks for some of...</td>\n",
       "    </tr>\n",
       "    <tr>\n",
       "      <th>4</th>\n",
       "      <td>What are the graded components for each category?</td>\n",
       "      <td>Each graded category is subdivided into multip...</td>\n",
       "    </tr>\n",
       "    <tr>\n",
       "      <th>5</th>\n",
       "      <td>Will there be one LAMS sequence posted every w...</td>\n",
       "      <td>No. All DS LAMS sequences will be posted befor...</td>\n",
       "    </tr>\n",
       "    <tr>\n",
       "      <th>6</th>\n",
       "      <td>Why all the LAMS sequences are posted together...</td>\n",
       "      <td>We are trying out this design the first time t...</td>\n",
       "    </tr>\n",
       "    <tr>\n",
       "      <th>7</th>\n",
       "      <td>Will every LAMS sequence have graded embedded ...</td>\n",
       "      <td>No. There will be some LAMS sequences that do ...</td>\n",
       "    </tr>\n",
       "    <tr>\n",
       "      <th>8</th>\n",
       "      <td>Will the LAMS quizzes be single-try or multipl...</td>\n",
       "      <td>The LAMS quizzes will have unlimited number of...</td>\n",
       "    </tr>\n",
       "    <tr>\n",
       "      <th>9</th>\n",
       "      <td>Will the LAMS embedded quizzes be available af...</td>\n",
       "      <td>Yes, they will still be available. But you wil...</td>\n",
       "    </tr>\n",
       "    <tr>\n",
       "      <th>10</th>\n",
       "      <td>Do we need to check the Lecture Slides or are ...</td>\n",
       "      <td>You are strongly encouraged to check the Lectu...</td>\n",
       "    </tr>\n",
       "    <tr>\n",
       "      <th>11</th>\n",
       "      <td>Can I get an extension for the LAMS quizzes? I...</td>\n",
       "      <td>Really sorry. No extension for the LAMS embedd...</td>\n",
       "    </tr>\n",
       "    <tr>\n",
       "      <th>12</th>\n",
       "      <td>What is the schedule for the Lab Sessions? My ...</td>\n",
       "      <td>Lab Sessions will happen every week (almost), ...</td>\n",
       "    </tr>\n",
       "    <tr>\n",
       "      <th>13</th>\n",
       "      <td>What will we actually do in the Lab Sessions?</td>\n",
       "      <td>You will primarily solve the Exercise posted f...</td>\n",
       "    </tr>\n",
       "    <tr>\n",
       "      <th>14</th>\n",
       "      <td>Are there Lab Exercises and Quizzes for every ...</td>\n",
       "      <td>Yes. But for most of the weeks, the Lab Exerci...</td>\n",
       "    </tr>\n",
       "    <tr>\n",
       "      <th>15</th>\n",
       "      <td>Do we have to prepare anything before coming t...</td>\n",
       "      <td>Yes. You should go through the respective LAMS...</td>\n",
       "    </tr>\n",
       "    <tr>\n",
       "      <th>16</th>\n",
       "      <td>How do I do preparation if the Lab Exercises a...</td>\n",
       "      <td>The Preparation Codes are already posted for t...</td>\n",
       "    </tr>\n",
       "    <tr>\n",
       "      <th>17</th>\n",
       "      <td>How do I prepare for the Bonus Questions in th...</td>\n",
       "      <td>You can very well come to the lab, check the P...</td>\n",
       "    </tr>\n",
       "    <tr>\n",
       "      <th>18</th>\n",
       "      <td>Where are the solutions for the Lab Exercises?...</td>\n",
       "      <td>The solutions for each Lab Exercise will be po...</td>\n",
       "    </tr>\n",
       "    <tr>\n",
       "      <th>19</th>\n",
       "      <td>Can I sit with my acquaintance at the Lab?</td>\n",
       "      <td>Do follow the sitting order as specific by you...</td>\n",
       "    </tr>\n",
       "    <tr>\n",
       "      <th>20</th>\n",
       "      <td>Will the Lab TAs teach new topics during the L...</td>\n",
       "      <td>No. There will be no formal lecture or teachin...</td>\n",
       "    </tr>\n",
       "    <tr>\n",
       "      <th>21</th>\n",
       "      <td>Are the Instructors and Lab TAs available for ...</td>\n",
       "      <td>Given the current size of the class (800+), it...</td>\n",
       "    </tr>\n",
       "    <tr>\n",
       "      <th>22</th>\n",
       "      <td>What if I can't complete the Exercise within t...</td>\n",
       "      <td>Generally, the Exercise should be solvable wit...</td>\n",
       "    </tr>\n",
       "    <tr>\n",
       "      <th>23</th>\n",
       "      <td>Do we need to make-up for a Lab Exercise that ...</td>\n",
       "      <td>Yes. But you do not need to come to the Lab fo...</td>\n",
       "    </tr>\n",
       "    <tr>\n",
       "      <th>24</th>\n",
       "      <td>How many quizzes are there during the semester?</td>\n",
       "      <td>There will be 2 theory quizzes during the seme...</td>\n",
       "    </tr>\n",
       "    <tr>\n",
       "      <th>25</th>\n",
       "      <td>Why is DS Theory Quiz 15% while AI Theory Quiz...</td>\n",
       "      <td>Ok. This is the DS vs AI distribution of grade...</td>\n",
       "    </tr>\n",
       "    <tr>\n",
       "      <th>26</th>\n",
       "      <td>Are the theory quizzes open-book or closed-book?</td>\n",
       "      <td>The theory quizzes based on the lectures (Rece...</td>\n",
       "    </tr>\n",
       "    <tr>\n",
       "      <th>27</th>\n",
       "      <td>When will the Mini-Project be released and how...</td>\n",
       "      <td>The Mini-Project will be released before Week ...</td>\n",
       "    </tr>\n",
       "    <tr>\n",
       "      <th>28</th>\n",
       "      <td>Can we choose our own groups for the Mini-Proj...</td>\n",
       "      <td>Yes, you can. However, here are the constraint...</td>\n",
       "    </tr>\n",
       "    <tr>\n",
       "      <th>29</th>\n",
       "      <td>What if I can't find a team? What if I don't h...</td>\n",
       "      <td>Please talk to the Lab TA in such a case. They...</td>\n",
       "    </tr>\n",
       "    <tr>\n",
       "      <th>30</th>\n",
       "      <td>Does the Mini-Project test on Data Science or ...</td>\n",
       "      <td>Hmm. Hard to say, given that there is an overl...</td>\n",
       "    </tr>\n",
       "    <tr>\n",
       "      <th>31</th>\n",
       "      <td>What if my teammates assess me unfairly for th...</td>\n",
       "      <td>It is mandatory for everyone to mention the ex...</td>\n",
       "    </tr>\n",
       "    <tr>\n",
       "      <th>32</th>\n",
       "      <td>What is the Grading Scheme for the Mini-Project?</td>\n",
       "      <td>10% for coming up with your own problem defini...</td>\n",
       "    </tr>\n",
       "    <tr>\n",
       "      <th>33</th>\n",
       "      <td>What is an 'interesting problem' based on the ...</td>\n",
       "      <td>Talk to your Lab TA. They will be able to help...</td>\n",
       "    </tr>\n",
       "    <tr>\n",
       "      <th>34</th>\n",
       "      <td>What do you mean by 'data preparation and clea...</td>\n",
       "      <td>The dataset chosen by you may not be in the pr...</td>\n",
       "    </tr>\n",
       "    <tr>\n",
       "      <th>35</th>\n",
       "      <td>How much of visualization should be presented ...</td>\n",
       "      <td>It's a part of the 20% in EDA, so do not spend...</td>\n",
       "    </tr>\n",
       "    <tr>\n",
       "      <th>36</th>\n",
       "      <td>How much of machine learning techniques should...</td>\n",
       "      <td>This is important, but not the ONLY focus of y...</td>\n",
       "    </tr>\n",
       "    <tr>\n",
       "      <th>37</th>\n",
       "      <td>What do you mean by 'learning something new' b...</td>\n",
       "      <td>The goal for the mini-project is to make you l...</td>\n",
       "    </tr>\n",
       "    <tr>\n",
       "      <th>38</th>\n",
       "      <td>What is the format for the final Presentation ...</td>\n",
       "      <td>You will submit a 10 minute video as your fina...</td>\n",
       "    </tr>\n",
       "    <tr>\n",
       "      <th>39</th>\n",
       "      <td>Who will grade my Mini-Project?</td>\n",
       "      <td>The Presentations will be graded by your own L...</td>\n",
       "    </tr>\n",
       "    <tr>\n",
       "      <th>40</th>\n",
       "      <td>What will I finally submit for the Mini-Project?</td>\n",
       "      <td>You will have to submit your Presentation Vide...</td>\n",
       "    </tr>\n",
       "    <tr>\n",
       "      <th>41</th>\n",
       "      <td>How is my 'individual contribution' judged for...</td>\n",
       "      <td>Your individual contribution to the mini-proje...</td>\n",
       "    </tr>\n",
       "    <tr>\n",
       "      <th>42</th>\n",
       "      <td>What libraries/frameworks can we use for progr...</td>\n",
       "      <td>During the lab exercises, you will not need an...</td>\n",
       "    </tr>\n",
       "    <tr>\n",
       "      <th>43</th>\n",
       "      <td>Apart from Python (as covered in ICT), what el...</td>\n",
       "      <td>This course expects you to know just Python, a...</td>\n",
       "    </tr>\n",
       "    <tr>\n",
       "      <th>44</th>\n",
       "      <td>Can we email the Course Instructors and Lab TA...</td>\n",
       "      <td>Sure. In terms of the LAMS and related Codes a...</td>\n",
       "    </tr>\n",
       "    <tr>\n",
       "      <th>45</th>\n",
       "      <td>Is there any mark for Class Participation, lik...</td>\n",
       "      <td>No, sorry. There is no marks for class partici...</td>\n",
       "    </tr>\n",
       "    <tr>\n",
       "      <th>46</th>\n",
       "      <td>Will the Review Lectures be recorded?</td>\n",
       "      <td>Yes. All review lectures  will be recorded and...</td>\n",
       "    </tr>\n",
       "  </tbody>\n",
       "</table>\n",
       "</div>"
      ],
      "text/plain": [
       "                                             question  \\\n",
       "0                         Is this a Pass/Fail module?   \n",
       "1   What are all the graded components for the cou...   \n",
       "2   Will there be a final examination for the course?   \n",
       "3   Will I get to know the marks for all the grade...   \n",
       "4   What are the graded components for each category?   \n",
       "5   Will there be one LAMS sequence posted every w...   \n",
       "6   Why all the LAMS sequences are posted together...   \n",
       "7   Will every LAMS sequence have graded embedded ...   \n",
       "8   Will the LAMS quizzes be single-try or multipl...   \n",
       "9   Will the LAMS embedded quizzes be available af...   \n",
       "10  Do we need to check the Lecture Slides or are ...   \n",
       "11  Can I get an extension for the LAMS quizzes? I...   \n",
       "12  What is the schedule for the Lab Sessions? My ...   \n",
       "13      What will we actually do in the Lab Sessions?   \n",
       "14  Are there Lab Exercises and Quizzes for every ...   \n",
       "15  Do we have to prepare anything before coming t...   \n",
       "16  How do I do preparation if the Lab Exercises a...   \n",
       "17  How do I prepare for the Bonus Questions in th...   \n",
       "18  Where are the solutions for the Lab Exercises?...   \n",
       "19         Can I sit with my acquaintance at the Lab?   \n",
       "20  Will the Lab TAs teach new topics during the L...   \n",
       "21  Are the Instructors and Lab TAs available for ...   \n",
       "22  What if I can't complete the Exercise within t...   \n",
       "23  Do we need to make-up for a Lab Exercise that ...   \n",
       "24    How many quizzes are there during the semester?   \n",
       "25  Why is DS Theory Quiz 15% while AI Theory Quiz...   \n",
       "26   Are the theory quizzes open-book or closed-book?   \n",
       "27  When will the Mini-Project be released and how...   \n",
       "28  Can we choose our own groups for the Mini-Proj...   \n",
       "29  What if I can't find a team? What if I don't h...   \n",
       "30  Does the Mini-Project test on Data Science or ...   \n",
       "31  What if my teammates assess me unfairly for th...   \n",
       "32   What is the Grading Scheme for the Mini-Project?   \n",
       "33  What is an 'interesting problem' based on the ...   \n",
       "34  What do you mean by 'data preparation and clea...   \n",
       "35  How much of visualization should be presented ...   \n",
       "36  How much of machine learning techniques should...   \n",
       "37  What do you mean by 'learning something new' b...   \n",
       "38  What is the format for the final Presentation ...   \n",
       "39                    Who will grade my Mini-Project?   \n",
       "40   What will I finally submit for the Mini-Project?   \n",
       "41  How is my 'individual contribution' judged for...   \n",
       "42  What libraries/frameworks can we use for progr...   \n",
       "43  Apart from Python (as covered in ICT), what el...   \n",
       "44  Can we email the Course Instructors and Lab TA...   \n",
       "45  Is there any mark for Class Participation, lik...   \n",
       "46              Will the Review Lectures be recorded?   \n",
       "\n",
       "                                               answer  \n",
       "0   No, it is not a Pass/Fail module. You will be ...  \n",
       "1   Please note all the graded components carefull...  \n",
       "2   No. This is a 100% Continuous Assessment (CA) ...  \n",
       "3   No, you will get to know the marks for some of...  \n",
       "4   Each graded category is subdivided into multip...  \n",
       "5   No. All DS LAMS sequences will be posted befor...  \n",
       "6   We are trying out this design the first time t...  \n",
       "7   No. There will be some LAMS sequences that do ...  \n",
       "8   The LAMS quizzes will have unlimited number of...  \n",
       "9   Yes, they will still be available. But you wil...  \n",
       "10  You are strongly encouraged to check the Lectu...  \n",
       "11  Really sorry. No extension for the LAMS embedd...  \n",
       "12  Lab Sessions will happen every week (almost), ...  \n",
       "13  You will primarily solve the Exercise posted f...  \n",
       "14  Yes. But for most of the weeks, the Lab Exerci...  \n",
       "15  Yes. You should go through the respective LAMS...  \n",
       "16  The Preparation Codes are already posted for t...  \n",
       "17  You can very well come to the lab, check the P...  \n",
       "18  The solutions for each Lab Exercise will be po...  \n",
       "19  Do follow the sitting order as specific by you...  \n",
       "20  No. There will be no formal lecture or teachin...  \n",
       "21  Given the current size of the class (800+), it...  \n",
       "22  Generally, the Exercise should be solvable wit...  \n",
       "23  Yes. But you do not need to come to the Lab fo...  \n",
       "24  There will be 2 theory quizzes during the seme...  \n",
       "25  Ok. This is the DS vs AI distribution of grade...  \n",
       "26  The theory quizzes based on the lectures (Rece...  \n",
       "27  The Mini-Project will be released before Week ...  \n",
       "28  Yes, you can. However, here are the constraint...  \n",
       "29  Please talk to the Lab TA in such a case. They...  \n",
       "30  Hmm. Hard to say, given that there is an overl...  \n",
       "31  It is mandatory for everyone to mention the ex...  \n",
       "32  10% for coming up with your own problem defini...  \n",
       "33  Talk to your Lab TA. They will be able to help...  \n",
       "34  The dataset chosen by you may not be in the pr...  \n",
       "35  It's a part of the 20% in EDA, so do not spend...  \n",
       "36  This is important, but not the ONLY focus of y...  \n",
       "37  The goal for the mini-project is to make you l...  \n",
       "38  You will submit a 10 minute video as your fina...  \n",
       "39  The Presentations will be graded by your own L...  \n",
       "40  You will have to submit your Presentation Vide...  \n",
       "41  Your individual contribution to the mini-proje...  \n",
       "42  During the lab exercises, you will not need an...  \n",
       "43  This course expects you to know just Python, a...  \n",
       "44  Sure. In terms of the LAMS and related Codes a...  \n",
       "45  No, sorry. There is no marks for class partici...  \n",
       "46  Yes. All review lectures  will be recorded and...  "
      ]
     },
     "execution_count": 9,
     "metadata": {},
     "output_type": "execute_result"
    }
   ],
   "source": [
    "qna_file_dir = \"/Users/bern/Documents/GitHub/fyp-chatbot/test_results/annotated/faq_questions_and_answers.csv\"\n",
    "df_qna = pd.read_csv(qna_file_dir)\n",
    "\n",
    "df_qna"
   ]
  },
  {
   "cell_type": "code",
   "execution_count": 10,
   "metadata": {},
   "outputs": [
    {
     "data": {
      "text/plain": [
       "[{'question': 'Is this a Pass/Fail module?',\n",
       "  'answer': 'No, it is not a Pass/Fail module. You will be graded based on the components mentioned below. It is mandatory that you \"attempt\" at least 80% of the graded components to Pass this course. This means you can\\'t simply drop the Mini-Project (30%) or the AI Theory Quiz (25%). You may miss a few components, if you have to, but the total weight of the components you miss should not be more than 20%. Be careful, and choose wisely, in case you do need to miss out on any component.'},\n",
       " {'question': 'What are all the graded components for the course?',\n",
       "  'answer': 'Please note all the graded components carefully, and pay attention to the calendar so that you do not miss any.\\n•\\t5% : LAMS embedded quizzes throughout the semester : Weeks 1 to 13 (online)\\n•\\t25% : Lab Exercises 3, 4, 5, 7, 8 : Weeks 4, 6, 7, 10, 12 during the Lab Sessions\\n•\\t15% : DS Theory Quiz based on Lectures (theoretical) : Recess Week at the Lab\\n•\\t25% : AI Theory Quiz based on Lectures (theoretical) : Week 14 (Monday) at Lab\\n•\\t30% : Mini-Project (mostly DS) : During Week 6 to 14 : Mid of Week 14\\nMore details on each of the graded components are posted below, in each respective FAQ section. Please check.'},\n",
       " {'question': 'Will there be a final examination for the course?',\n",
       "  'answer': 'No. This is a 100% Continuous Assessment (CA) course, which means there is no final examination. Please note the above graded components carefully, and mark your calendar so that you do not miss out on any of the components. The Course Calendar should list each graded component against the respective weeks. The theory quizzes will be held for the entire batch on the same day, but the Lab Exercises will be held during your respective Lab Sessions across the marked weeks.'},\n",
       " {'question': 'Will I get to know the marks for all the graded components?',\n",
       "  'answer': 'No, you will get to know the marks for some of the graded components, as follows. No exceptions; sorry.\\n•\\tMarks will be disclosed during the semester : LAMS (5%) + Lab Exercises (25%) + DS Theory Quiz (15%) : Total 45%\\n•\\tMarks will not be disclosed (will only reflect in the final result) : AI Theory Quiz (25%) + Mini-Project (30%) : Total 55%'},\n",
       " {'question': 'What are the graded components for each category?',\n",
       "  'answer': 'Each graded category is subdivided into multiple graded components, as follows. Cross-check with the Course Calendar.\\n•\\tQuizzes within LAMS : 5% : Divided across the LAMS sequences over the entire semester. Multiple attempts.\\n•\\tQuizzes based on Lectures : 40% : Divided in two parts -- DS Quiz (15%, Recess Week) + AI (25%, Week 14).\\n•\\tLab Exercises (individual) : 25% : 5 Exercises (5% each for Exercises 3, 4, 5, 7, 8) as per the Course Calendar.\\n•\\tMini-Project (group-based) : 30% : Evaluation of Project (Video + Code), moderated by your Peer Assessments.\\nMore details on each of the graded components are posted below, in each respective FAQ section. Please check.'},\n",
       " {'question': 'Will there be one LAMS sequence posted every week?',\n",
       "  'answer': 'No. All DS LAMS sequences will be posted before Week 1, and all AI LAMS sequences will be posted before Week 8. Check the advised schedule to complete the LAMS sequences posted under each sequence respectively. Note that your Lab Exercises are coordinated with the LAMS material, and thus, you should complete the LAMS sequences required for a Lab Exercise before you attend that specific Lab Session. The advice posted on the sequences indicate that clearly. For example : You should complete the Module 1 LAMS (2 sequences) before you attend the Lab Session for Exercise 1. Each LAMS sequence should take you around 1 to 1.5 hours to complete, including the embedded quiz questions. In case you also want to check out the respective code (Notebooks), it will take you another 1 hour or so. All associated material like codes and videos are also available under the Content Section.'},\n",
       " {'question': 'Why all the LAMS sequences are posted together, and not released per week?',\n",
       "  'answer': 'We are trying out this design the first time this semester. This is a 100% Continuous Assessment (CA) course, and thus, we want to keep you active throughout the semester with the LAMS sequences. But again, we believe that you should be able to take charge of your own learning, and maintain your own schedule to learn from the LAMS sequences and then apply the learning towards the respective Lab Exercises. Thus, it is your responsibility to learn as much or as little you want every week. Just make sure that you come to the Lab Sessions will prepared, especially for the graded ones, so that your marks are not compromised. This way, you get to set your own pace to learn the contents.'},\n",
       " {'question': 'Will every LAMS sequence have graded embedded quiz?',\n",
       "  'answer': 'No. There will be some LAMS sequences that do not have any embedded quiz. There will also be some LAMS sequences with embedded questions to think about the content of the lecture, but not graded. This will be clearly stated for each LAMS, so that you know if a LAMS will contribute towards your grade.'},\n",
       " {'question': 'Will the LAMS quizzes be single-try or multiple-try questions?',\n",
       "  'answer': 'The LAMS quizzes will have unlimited number of tries per question, so that you can try it over and over again to learn which answer is correct and why. As a by-product of this learning process, you should be able to score full marks for each LAMS sequence. Please do that. Thanks.'},\n",
       " {'question': 'Will the LAMS embedded quizzes be available after the deadline?',\n",
       "  'answer': 'Yes, they will still be available. But you will NOT get any marks for attempts made after the deadline. We will consolidate the marks from the LAMS sequences after the deadline, and your attempts after that will not matter any more. For example, DS LAMS sequences have the deadline of Recess Week, that is, till your DS Theory Quiz. After the DS Theory Quiz, we will download your LAMS scores, and freeze those. So, please be mindful of the deadline posted under the respectice LAMS sequences.'},\n",
       " {'question': 'Do we need to check the Lecture Slides or are the LAMS sufficient?',\n",
       "  'answer': 'You are strongly encouraged to check the Lecture Slides while going through the LAMS videos. It is a good practice to take notes too, as it will make your revision sessions easier (closer to the theory quizzes). Note that in some LAMS videos, we wrote on the slides while teaching, but the PDF lecture slides do not have those annotations. Thus, it is recommended that you keep a copy of the slides with you while going through the LAMS videos, so that you may take those notes as well. Same goes for the Review Sessions every week. It is also strongly encouraged that you try to read the relevant portions of the recommended textbooks, but this is not mandatory for your assessments.'},\n",
       " {'question': 'Can I get an extension for the LAMS quizzes? I missed it.',\n",
       "  'answer': 'Really sorry. No extension for the LAMS embedded quizzes beyond the deadline, unless your case is truly exceptional. Feel free to send me an email if you think so, but please do note that in most common cases of missing the deadline, it will not be considered. Please try to finish the quizzes within the deadline, or much ahead of time, if possible, so that there is no last minute issue with submission, network outage or sync issues on NTULearn. Anyway, your deadlines are set to coincide with the theory quizzes, and under all practical circumstances, you should complete the LAMS quizzes during revision for your theory quizzes. So, I do not think you want to miss the deadlines. ;-)'},\n",
       " {'question': 'What is the schedule for the Lab Sessions? My NTU calendar says something different.',\n",
       "  'answer': 'Lab Sessions will happen every week (almost), throughout the semester, and you will generally complete hand-on programming exercises (and some related discussions) during the sessions. They will be held at the Labs. Please check our Course Calendar for the final lab schedule, irrespective of what is mentioned in your NTU calendar. For example : There is no Lab Session in Week 1 or Week 5(the CNY week) and Week 13 (last week of classes).'},\n",
       " {'question': 'What will we actually do in the Lab Sessions?',\n",
       "  'answer': 'You will primarily solve the Exercise posted for that specific Lab Session. There should be a basic set of problems directly related to the LAMS sequences covered in the week before, and similar to the Notebooks posted for under Course Content. You can easily adapt those code to solve these basic exercise problems. If you face difficulty, talk to your Lab TA. There should also be some bonus problems, slightly harder than the basic ones. You should try to solve them on your own, or ask the Lab TA for help. The Lab TA may also conduct some discussions in the Lab regarding the exercise problems. Go beyond the problems, and try to learn new things related to the exercise on your own. Note that in some Lab Sessions, the exercise will be graded. The format for such graded exercises will be shared with you later during the course. You will need to solve the exercises at the Lab, and show your solution to the Lab TA.'},\n",
       " {'question': 'Are there Lab Exercises and Quizzes for every Lab Session?',\n",
       "  'answer': 'Yes. But for most of the weeks, the Lab Exercise will not be graded. It will be graded for Exercises 3, 4, 5, 7 and 8 only. Plus, in some weeks (Week 9, 11), you may meet your Lab TA at the Lab Sessions just to get consultation on your Mini-Project. These lab sessions are not mandatory to attend, but are generally fruitful in case you want to discuss your efforts and line of thinking for the project with you TA. They will eventually grade your projects anyway. ;-)'},\n",
       " {'question': 'Do we have to prepare anything before coming to the Labs?',\n",
       "  'answer': 'Yes. You should go through the respective LAMS sequences to learn the theoretical concepts first. Then you may go through the associated codes and videos under the Content Section to familiarize yourselves with the premise of the exercise. Even if you do not check the codes or videos beforehand, it is alright. There will be Preparation Codes posted for each Lab Exercise, which will help you solve the problems, and you may very well check the Preparation Codes while at the Lab. In case you also need to check the videos while at the Lab, it will help you if you can bring in headphones to listen to the videos (or related LAMS videos) without disturbing your friends.'},\n",
       " {'question': 'How do I do preparation if the Lab Exercises and Preparation Codes are only posted the evening before my lab?',\n",
       "  'answer': 'The Preparation Codes are already posted for the whole semester, under \"Course Content > Content Section : Data Science\". They are called \"Codes\" within each Module, and there are 5 Notebooks in total -- 1 for M1, 2 for M2, 1 for M3 and 1 for M4. All extra videos going over the codes are also in the same location. Feel free to check them out a little earlier. Nothing new is posted in the Preparation Codes section of Lab Exercises anyway. Hope this helps.'},\n",
       " {'question': 'How do I prepare for the Bonus Questions in the Lab Exercises?',\n",
       "  'answer': \"You can very well come to the lab, check the Preparation Codes, and complete the basic Exercises. These are not that hard, and they constitute the major component of your grades. The Bonus Problems will be more complicated in general, and may be based on some extra topics that your Lab TA may share with you during the Lab Session. You do not need any preparation for these, but may have to think on your feet to learn and apply the ideas within the Lab. No worries, the Bonus Problems will not carry too much weightage on your Lab Exercise marks. They are just to push you a little more in the direction of the topic you are learning. Enjoy them, and don't panic over the marks.\"},\n",
       " {'question': 'Where are the solutions for the Lab Exercises? I wanted to check my solutions for all the Problems.',\n",
       "  'answer': 'The solutions for each Lab Exercise will be posted at the same place where you got the Exercise Problem from, that is, under \"Lab Sessions\", after the respective week is over. Feel free to check out the solution to the exercise problems, and the notes alongwith. These are not the ONLY possible solutions for the problems. Feel free to use your own style ;-). Sometimes, we will not post solutions to the Bonus Problems, but may discuss them during our next Review Lecture. You may also discuss those with your Lab TA in the Lab. Note that your Lab TA will nudge you towards the right direction to solve the exercises, but will not disclose the solution to you at any stage.'},\n",
       " {'question': 'Can I sit with my acquaintance at the Lab?',\n",
       "  'answer': 'Do follow the sitting order as specific by your Lab In-Charge. Generally, it should be according to your attendance sheet. You may feel free to talk to your friends about the exercise during the Lab. You may also feel free to discuss the Mini-Project with your respective team-mates, later on during the course. During project consultations, your sitting arrangement may be more flexible.'},\n",
       " {'question': 'Will the Lab TAs teach new topics during the Lab Sessions?',\n",
       "  'answer': 'No. There will be no formal lecture or teaching during the Lab Sessions. The main course material is just the LAMS sequences, videos and respective slides. The labs are meant for hands-on programming, and the codes that you work on will be tested through the Lab Exercises. However, your Lab TAs may introduce you to some new material every week while they recap the main ideas behind the respective Lab Exercise. These will not be examinable.'},\n",
       " {'question': 'Are the Instructors and Lab TAs available for consultation?',\n",
       "  'answer': 'Given the current size of the class (800+), it will be very hard for the Course Instructors to consult you on specific topics individually. We will do that in the Review Lectures anyway, and you are encouraged to bring your questions to the Course Instructors in those review sessions. The Lab TAs will be available for all other consultation matters during the Labs Sessions. They will be your first point of contact in terms of Lab Exercises and Mini-Project. Feel free to talk to them about the exercises and the project during the lab hours as much as possible. If you want to consult them beyond the lab hours, it is recommended that you make an appointment with them separately.'},\n",
       " {'question': \"What if I can't complete the Exercise within the Lab Session?\",\n",
       "  'answer': 'Generally, the Exercise should be solvable within the Lab Session. Ask your Lab TA for guidance and a little help, if needed. Please note that for all the graded exercises, the deadline for submission is within 2 hrs after the lab session is over. Do note that you need to submit your solution online (the submission details will be shared with you by your TA).The policy of \"no more than 2 hours from the end of your lab session\" will be consistent across all labs for consistency. '},\n",
       " {'question': 'Do we need to make-up for a Lab Exercise that we miss?',\n",
       "  'answer': 'Yes. But you do not need to come to the Lab for this make-up. Just follow the policy set by your Lab TA. In case the lab exercise is not graded, you may simply send the solution to your TA to prove that you could complete it. In case the lab exercise if graded, your Lab TA will provide you with an alternative submission option, and you must submit your solution within a slightly extended deadline (depending on your specific case, but never more than 24 hours). This arrangement will be done by your Lab TA, and thus the submission mechanism (email, online, etc.) may be different for each lab. The policy of \"no more than 24 hours\" will be consistent across all labs for consistency. Talk to your Lab TA about it when you first meet them at the Lab.'},\n",
       " {'question': 'How many quizzes are there during the semester?',\n",
       "  'answer': 'There will be 2 theory quizzes during the semester, both based on lectures and related theory -- one for DS and one for AI. No questions will be asked on the Lab Exercises or Codes in these theory quizzes. Questions will be MCQs and other objective types (fill in the blanks, numeric, etc). The quizzes will be conducted using the Lockdown Browser at the Lab, physically, during the Recess Week (DS) and Week 14 (AI). You will have to come to the lab in person to take the quiz. The dates are marked in the Course Calendar, and the specific slots will be set closer to the dates. The entire batch will take the quizzes on the same day to ensure fairness across the class.'},\n",
       " {'question': 'Why is DS Theory Quiz 15% while AI Theory Quiz is 25%?',\n",
       "  'answer': 'Ok. This is the DS vs AI distribution of grades : DS has 1 theory quiz (15%) + 3 lab exercises (15%) + 1 mini-project (30%), while AI has 1 theory quiz (25%) + 2 lab exercises (10%). Not entirely balanced, but close enough. ;-)'},\n",
       " {'question': 'Are the theory quizzes open-book or closed-book?',\n",
       "  'answer': 'The theory quizzes based on the lectures (Recess Week and Week 14) are both closed-book. You will use Lockdown Browser to take the quizzes. No resources are allowed. You will be provided with rough papers to do some basic rough-work or calculations during the quiz. You will be allowed to bring basic resources like calculators, pens, pencils, etc. More details will be posted before the quizzes. Lab Exercises are of course open-resources.'},\n",
       " {'question': 'When will the Mini-Project be released and how will we submit?',\n",
       "  'answer': 'The Mini-Project will be released before Week 6, and you will get Weeks 6 to 13 to work on it. The submission will be on Week 14.\\n•\\tYou will have to submit a 10-minute Video Presentation on your project, plus the Code for the project. Submission is on NTULearn + GitHub.\\n•\\tYour Lab TA will grade the Mini-Project based on the submitted Video and Codes. There will be no face-to-face Q&A or project presentations.\\n•\\tThere will be scope for Peer Assessment for the Mini-Project. You will assess your teammates on their contribution, and they will assess you.\\nMore about the project grading details and the project topic will be released before Week 6. Talk to your Lab TAs after that to get more information.'},\n",
       " {'question': 'Can we choose our own groups for the Mini-Project?',\n",
       "  'answer': \"Yes, you can. However, here are the constraints and rules regarding choosing your own Project group.\\n•\\tThe whole project team must be from the same Lab Group. You can't form teams across Labs/Indices. Wait till Add/Drop is over by Week 3.\\n•\\tThe minimum number of students in a group is 2 (TWO), and the maximum number is 3 (THREE). Sorry, you can't be a lone wolf this time!\\n•\\tGenerally, every team should be a 3-member team. You can form 2-member teams only if your Lab Group is not a clean multiple of 3. Please talk to your Lab TA to finalize the project group. They will collect the exact project team information from you in Week 8, after the Recess Week. So you have time to decide on your group.\\n•\\tEven if it's tempting, you can't unfortunately team-up with your Lab TA or with the Course Instructors. We have our own project groups. ;-)\"},\n",
       " {'question': \"What if I can't find a team? What if I don't have any friend in my Lab?\",\n",
       "  'answer': \"Please talk to the Lab TA in such a case. They will help you pair up with teams that have 2 (TWO) members or less. Teams are not supposed to have 2 (TWO) members unless it is required for the Lab Group where the total number of students is not a clean multiple of 3. By Week 8, you and/or your TA will surely be able to find you a project team if you can't get it by yourself. Don't worry. Note that team of 4 (FOUR) members will not be allowed.\"},\n",
       " {'question': 'Does the Mini-Project test on Data Science or Artificial Intelligence too?',\n",
       "  'answer': 'Hmm. Hard to say, given that there is an overlap of notion between the two. The Mini-Project will primarily test you on Data Science, but will also extend into the realm of Machine Learning and things that you will learn on your own to apply. However, the project will not test you on the main AI topics covered in the course, like search problems or game playing. If you consider Machine Learning to be more AI than DS, then sure, you have both in the project.'},\n",
       " {'question': 'What if my teammates assess me unfairly for the project even if I contribute?',\n",
       "  'answer': 'It is mandatory for everyone to mention the exact reason for their assessments. Thus, if your teammates assess you lower than they assess themselves, they will have to justify clearly why they did so. This justification will be checked for each member of a team in case of any conflict. The teams with conflicting assessments within the teammates will also be approached by their Lab TAs (or the Coordinator) to clarify the matter before the grades are finalized.'},\n",
       " {'question': 'What is the Grading Scheme for the Mini-Project?',\n",
       "  'answer': '10% for coming up with your own problem definition based on a dataset\\n10% for data preparation and cleaning to suit the problem of your choice\\n20% for exploratory data analysis/visualization to gather relevant insights\\n20% for the use of machine learning techniques to solve specific problem\\n20% for the presentation of data-driven insights and the recommendations\\n10% for the quality of your final team presentation and overall impressions\\n10% for learning something new and doing something beyond this course\\nYour individual contribution will be evaluated through peer assessment.\\nThis evaluation will be used as a \"scaling factor\" for your overall score.\\nIf you are attempting something different, especially something that you think do not fit naturally into the grading scheme, feel free to discuss with your Lab TA directly. They will mentor you and also grade your project.'},\n",
       " {'question': \"What is an 'interesting problem' based on the dataset for the mini project?\",\n",
       "  'answer': 'Talk to your Lab TA. They will be able to help you choose something interesting. It should not be something that you can solve by copy-pasting the LinearRegression or DecisionTreeClassifier codes from the regular course material. There should be something beyond that, for which you will have to learn something new, or apply some new technique. If you are unsure whether your problem is interesting, ask for the Lab TA\\'s advice. They will mentor you on this.\\nWarning : In quest for \"interesting problem\", please do not attempt something that you can\\'t finish in time.'},\n",
       " {'question': \"What do you mean by 'data preparation and cleaning' for the mini project?\",\n",
       "  'answer': 'The dataset chosen by you may not be in the proper format to solve the problem you targeted. Preparing means cleaning the data, resizing/reshaping the data, removing outliers (if necessary), balancing imbalanced classes (if necessary), grouping the rows/columns as necessary, etc. This is an important part of any DS/ML project. You may also have to join/merge multiple data sources, plus extract/scrape data from various online sources to work on your problem.'},\n",
       " {'question': 'How much of visualization should be presented for the mini project?',\n",
       "  'answer': 'It\\'s a part of the 20% in EDA, so do not spend the bulk of time on cool visualization tools. Do standard exploration of the data, and standard statistical visualizations, as done during the course, just to understand your data well enough, and gather relevant insights that you can present in support of your business case. You DO NOT need to produce data dashboards and cool web interfaces to do an impressive project.\\nWarning : In quest for \"cool presentation\", please do not try something that takes too much time to learn.'},\n",
       " {'question': 'How much of machine learning techniques should I use for the project?',\n",
       "  'answer': 'This is important, but not the ONLY focus of your project. You may use any tool and technique that you have seen during the course, for Regression and Classification, but make sure that it is actually required to solve the problem you formulate on the dataset you choose. If you want something simple, stick to Scikit-Learn as your ML toolbox. You may also choose to use new models that you have not seen in the course, like Random Forest for regression, Naive Bayes for classification, or the Xtra Module techniques like clustering, anomaly detection, etc. This will also satisfy the criteria of \"learning something new\" in parallel.\\nWarning : In quest for \"quick impression\", please do not try complex tools that takes too much time to learn.'},\n",
       " {'question': \"What do you mean by 'learning something new' beyond the course for the mini project?\",\n",
       "  'answer': 'The goal for the mini-project is to make you learn something new. Try to use a new ML model for regression or classification, beyond what we have already covered in the course, or apply a model for clustering or anomaly detection. That\\'s the quickest way to prove you learned something new. You may also want to explore a new visualization tool (like Plotly), or a new technique for data preparation (like resampling), or explore additional/extra data beyond what have been suggested for your project.\\nWarning : In quest for \"quick impression\", please do not try to learn too many new things at the same time.'},\n",
       " {'question': 'What is the format for the final Presentation of the mini project?',\n",
       "  'answer': 'You will submit a 10 minute video as your final presentation. You may format it as a PPT/PDF/Google Slides presentation on the problem you chose, along with some snippets of your code from Jupyter Notebook/Google Colab, and relevant visualizations. You may also feel free to \"demonstrate\" any tool or app that you built based on the dataset or your problem. You DO NOT need to show raw code during the presentation, but you may of course, if you want. The idea for the presentation will be a complete video, explaining all the steps from your motivation to your data-driven solution to the problem. Pay attention to the grading scheme to judge what to present in the video.\\nWarning : In quest for \"quick impression\", please do not try to \"produce a film\" with cool animations and stuff. That\\'s not the point! ;-)'},\n",
       " {'question': 'Who will grade my Mini-Project?',\n",
       "  'answer': \"The Presentations will be graded by your own Lab's TA. The Instructors (Smitha and Ong Chin Ann) will NOT grade your project. Thus, it is imperative that you talk to your Lab TA. They will mentor you as well as grade your project.\"},\n",
       " {'question': 'What will I finally submit for the Mini-Project?',\n",
       "  'answer': 'You will have to submit your Presentation Video, the PPT/PDF slides used for the Presentation, all your codes on Github (Jupyter Notebooks, Python codes, Visualization codes, etc.), with reference to the resources you used during the project. If you build an application, a visualization tool, a dashboard or a website, you may also submit the link to that. Your submission will be on NTULearn (the video), plus a link to your Github repository (for code and other materials).\\nNote : Guidelines on Presentation and Submission of Project will be communicated closer to the deadline.'},\n",
       " {'question': \"How is my 'individual contribution' judged for the project?\",\n",
       "  'answer': 'Your individual contribution to the mini-project will be judged through Peer Assessment, where your Group mates are going to judge your contribution to the project. Each one of you will be asked to judge your own individual contribution against the contribution of each of the other Group mates working together on this. The primary component of your marks will be awarded for the Group effort, and then it will be \"scaled\" based on your overall peer-assessment score.\\nNote : There will be a scope for you to clearly comment on why you graded a team-mate the way you did. This comment is mandatory, as it will help us resolve conflicts within the team, and justify the Peer Evaluation scores to you and your team-mates, if required at any point of time.'},\n",
       " {'question': 'What libraries/frameworks can we use for programming?',\n",
       "  'answer': \"During the lab exercises, you will not need anything beyond regular Anaconda (the latest Python release). However, for the Mini-Project, it is upto you. Feel free to use any library or framework of your choice. This is why we recommend you to install your own Data Science setup on your own computer. Note that your Lab Exercises that are graded must be completed on the Lab Computers, so that it runs on everyone's system. Talk to your Lab TA first if you are running a different setup than that in the Labs, so that they know how to grade your codes.\"},\n",
       " {'question': 'Apart from Python (as covered in ICT), what else should we know?',\n",
       "  'answer': 'This course expects you to know just Python, as covered in ICT. You will learn the rest of the material during the course. If you have not taken ICT (or were exempted), you may pick up basics of Python on your own. It will help you.'},\n",
       " {'question': 'Can we email the Course Instructors and Lab TAs if we have questions?',\n",
       "  'answer': \"Sure. In terms of the LAMS and related Codes and Quizzes, please email the Course Instructors. In terms of the Lab Exercises and Mini-Project, please email the Lab TAs. This is recommended so that the course is neatly distributed across the Labs, and you get a timely response for your queries. Please try to bring your queries for the Course Instructors to the Review Lectures as much as possible; it may be hard to answer all your queries over email otherwise, given that we are running an overall class of 850+ students this time. I hope you will understand. We will still try to get back to you over email every time, and within a short enough span of time. Don't worry. :-)\"},\n",
       " {'question': 'Is there any mark for Class Participation, like asking good questions?',\n",
       "  'answer': \"No, sorry. There is no marks for class participation or asking good questions. All the graded components have been listed above. Please check carefully. However, your Lab TA will of course love to answer interesting questions. As most of your Lab TAs are PhD students working in Data Science, Machine Learning and AI related topics, you will also gain a lot from asking them more questions on these topics. Feel free to talk to them. They don't bite; I think. :-P \"},\n",
       " {'question': 'Will the Review Lectures be recorded?',\n",
       "  'answer': 'Yes. All review lectures  will be recorded and published on NTULearn, under \"Course Media\". You can refer back to them for revision, especially before the theory quizzes.'}]"
      ]
     },
     "execution_count": 10,
     "metadata": {},
     "output_type": "execute_result"
    }
   ],
   "source": [
    "dict = df_qna.to_dict('records')\n",
    "\n",
    "dict"
   ]
  },
  {
   "cell_type": "code",
   "execution_count": 12,
   "metadata": {},
   "outputs": [],
   "source": [
    "question = \"Will there be a final examination for the course?\"\n",
    "answer = \"No. This is a 100% Continuous Assessment (CA) course, which means there is no final examination. Please note the above graded components carefully, and mark your calendar so that you do not miss out on any of the components. The Course Calendar should list each graded component against the respective weeks. The theory quizzes will be held for the entire batch on the same day, but the Lab Exercises will be held during your respective Lab Sessions across the marked weeks.\"\n",
    "\n",
    "content = f\"Question: {question}\\nAnswer: {answer}\\n\\n\""
   ]
  },
  {
   "cell_type": "code",
   "execution_count": 17,
   "metadata": {},
   "outputs": [],
   "source": [
    "question = \"What is the Grading Scheme for the Mini-Project?\"\n",
    "answer = r'''10% for coming up with your own problem definition based on a dataset\n",
    "10% for data preparation and cleaning to suit the problem of your choice\n",
    "20% for exploratory data analysis/visualization to gather relevant insights\n",
    "20% for the use of machine learning techniques to solve specific problem\n",
    "20% for the presentation of data-driven insights and the recommendations\n",
    "10% for the quality of your final team presentation and overall impressions\n",
    "10% for learning something new and doing something beyond this course\n",
    "Your individual contribution will be evaluated through peer assessment.\n",
    "This evaluation will be used as a \"scaling factor\" for your overall score.\n",
    "If you are attempting something different, especially something that you think do not fit naturally into the grading scheme, feel free to discuss with your Lab TA directly. They will mentor you and also grade your project.\n",
    "'''\n",
    "\n",
    "content = f\"Question: {question}\\nAnswer: {answer}\\n\\n\""
   ]
  },
  {
   "cell_type": "code",
   "execution_count": null,
   "metadata": {},
   "outputs": [],
   "source": []
  },
  {
   "cell_type": "markdown",
   "metadata": {},
   "source": [
    "## RL Mechanism"
   ]
  },
  {
   "cell_type": "code",
   "execution_count": 4,
   "metadata": {},
   "outputs": [
    {
     "name": "stdout",
     "output_type": "stream",
     "text": [
      "loaded asknarelle_qna.txt\n",
      "file names:  [{'id': '20d6da77-3b82-4e12-80f3-0200cb81ebe0', 'filename': 'asknarelle_qna.txt', 'content': 'Question: What is the Grading Scheme for the Mini-Project?\\nAnswer: 10% for coming up with your own problem definition based on a dataset\\n10% for data preparation and cleaning to suit the problem of your choice\\n20% for exploratory data analysis/visualization to gather relevant insights\\n20% for the use of machine learning techniques to solve specific problem\\n20% for the presentation of data-driven insights and the recommendations\\n10% for the quality of your final team presentation and overall impressions\\n10% for learning something new and doing something beyond this course\\nYour individual contribution will be evaluated through peer assessment.\\nThis evaluation will be used as a \"scaling factor\" for your overall score.\\nIf you are attempting something different, especially something that you think do not fit naturally into the grading scheme, feel free to discuss with your Lab TA directly. They will mentor you and also grade your project.', '@search.score': 1.0, '@search.reranker_score': None, '@search.highlights': None, '@search.captions': None}, {'id': '994e6453-63ee-415e-b7bf-fec53a472b94', 'filename': 'asknarelle_qna.txt', 'content': 'Question: What is the Grading Scheme for the Mini-Project?\\nAnswer: 10% for coming up with your own problem definition based on a dataset\\n10% for data preparation and cleaning to suit the problem of your choice\\n20% for exploratory data analysis/visualization to gather relevant insights\\n20% for the use of machine learning techniques to solve specific problem\\n20% for the presentation of data-driven insights and the recommendations\\n10% for the quality of your final team presentation and overall impressions\\n10% for learning something new and doing something beyond this course\\nYour individual contribution will be evaluated through peer assessment.\\nThis evaluation will be used as a \"scaling factor\" for your overall score.\\nIf you are attempting something different, especially something that you think do not fit naturally into the grading scheme, feel free to discuss with your Lab TA directly. They will mentor you and also grade your project.', '@search.score': 1.0, '@search.reranker_score': None, '@search.highlights': None, '@search.captions': None}]\n",
      "i: 0; sdoc: page_content='Question: What is the Grading Scheme for the Mini-Project?\n",
      "Answer: 10% for coming up with your own problem definition based on a dataset\n",
      "10% for data preparation and cleaning to suit the problem of your choice\n",
      "20% for exploratory data analysis/visualization to gather relevant insights\n",
      "20% for the use of machine learning techniques to solve specific problem\n",
      "20% for the presentation of data-driven insights and the recommendations\n",
      "10% for the quality of your final team presentation and overall impressions\n",
      "10% for learning something new and doing something beyond this course\n",
      "Your individual contribution will be evaluated through peer assessment.\n",
      "This evaluation will be used as a \"scaling factor\" for your overall score.\n",
      "If you are attempting something different, especially something that you think do not fit naturally into the grading scheme, feel free to discuss with your Lab TA directly. They will mentor you and also grade your project.' metadata={'source': 'asknarelle_qna.txt'}\n",
      "i: 1; sdoc: page_content='Question: What is the Grading Scheme for the Mini-Project?\n",
      "Answer: 10% for coming up with your own problem definition based on a dataset\n",
      "10% for data preparation and cleaning to suit the problem of your choice\n",
      "20% for exploratory data analysis/visualization to gather relevant insights\n",
      "20% for the use of machine learning techniques to solve specific problem\n",
      "20% for the presentation of data-driven insights and the recommendations\n",
      "10% for the quality of your final team presentation and overall impressions\n",
      "10% for learning something new and doing something beyond this course\n",
      "Your individual contribution will be evaluated through peer assessment.\n",
      "This evaluation will be used as a \"scaling factor\" for your overall score.\n",
      "If you are attempting something different, especially something that you think do not fit naturally into the grading scheme, feel free to discuss with your Lab TA directly. They will mentor you and also grade your project.\n",
      "\n",
      "\n",
      "Question: sample question\n",
      "Answer: sample answer' metadata={'source': 'asknarelle_qna.txt'}\n",
      "updated asknarelle_qna.txt!\n"
     ]
    }
   ],
   "source": [
    "sample_question = \"What is the Grading Scheme for the Mini-Project?\"\n",
    "sample_answer = r'''10% for coming up with your own problem definition based on a dataset\n",
    "10% for data preparation and cleaning to suit the problem of your choice\n",
    "20% for exploratory data analysis/visualization to gather relevant insights\n",
    "20% for the use of machine learning techniques to solve specific problem\n",
    "20% for the presentation of data-driven insights and the recommendations\n",
    "10% for the quality of your final team presentation and overall impressions\n",
    "10% for learning something new and doing something beyond this course\n",
    "Your individual contribution will be evaluated through peer assessment.\n",
    "This evaluation will be used as a \"scaling factor\" for your overall score.\n",
    "If you are attempting something different, especially something that you think do not fit naturally into the grading scheme, feel free to discuss with your Lab TA directly. They will mentor you and also grade your project.\n",
    "'''\n",
    "\n",
    "sample_qn = \"sample question\"\n",
    "sample_ans = \"sample answer\"\n",
    "\n",
    "kb.update_qna_document(question=sample_qn, answer=sample_ans, index_name=\"test\")"
   ]
  },
  {
   "cell_type": "code",
   "execution_count": 8,
   "metadata": {},
   "outputs": [
    {
     "data": {
      "text/plain": [
       "[0]"
      ]
     },
     "execution_count": 8,
     "metadata": {},
     "output_type": "execute_result"
    }
   ],
   "source": [
    "test_dict = {'edited_rows': {0: {'answer': 'hihi'}}, 'added_rows': [], 'deleted_rows': []}\n",
    "\n",
    "list(test_dict[\"edited_rows\"].keys())"
   ]
  },
  {
   "cell_type": "code",
   "execution_count": 33,
   "metadata": {},
   "outputs": [
    {
     "data": {
      "text/plain": [
       "[{'question': 'helo', 'answer': 'hi'}]"
      ]
     },
     "execution_count": 33,
     "metadata": {},
     "output_type": "execute_result"
    }
   ],
   "source": [
    "import json\n",
    "\n",
    "with open(\"db/qna_list.json\", \"r\") as jsonFile:\n",
    "    data = json.load(jsonFile)\n",
    "\n",
    "data"
   ]
  },
  {
   "cell_type": "code",
   "execution_count": 34,
   "metadata": {},
   "outputs": [
    {
     "data": {
      "text/plain": [
       "[{'question': 'helo', 'answer': 'hi'},\n",
       " {'question': 'Hello', 'instructor_response': ''}]"
      ]
     },
     "execution_count": 34,
     "metadata": {},
     "output_type": "execute_result"
    }
   ],
   "source": [
    "data.append({\"question\": \"Hello\", \"instructor_response\": \"\"})\n",
    "\n",
    "data"
   ]
  },
  {
   "cell_type": "code",
   "execution_count": 36,
   "metadata": {},
   "outputs": [],
   "source": [
    "with open(\"db/qna_list.json\", \"w\") as jsonFile:\n",
    "    json.dump(data, jsonFile)"
   ]
  },
  {
   "cell_type": "code",
   "execution_count": 39,
   "metadata": {},
   "outputs": [],
   "source": [
    "qna_list_file = \"db/unanswered_questions.json\"\n",
    "\n",
    "def update_unanswered_question(new_question):\n",
    "    # open JSON file consisting of unanswered questions\n",
    "    with open(qna_list_file, \"r\") as jsonFile:\n",
    "        data = json.load(jsonFile)\n",
    "\n",
    "    data.append({\"question\": new_question, \"instructor_response\": \"\"})\n",
    "\n",
    "    with open(qna_list_file, \"w\") as jsonFile:\n",
    "        json.dump(data, jsonFile)"
   ]
  },
  {
   "cell_type": "code",
   "execution_count": 40,
   "metadata": {},
   "outputs": [],
   "source": [
    "update_unanswered_question(\"Why is this course so difficult?\")"
   ]
  },
  {
   "cell_type": "code",
   "execution_count": 1,
   "metadata": {},
   "outputs": [],
   "source": [
    "qna_list = {'edited_rows': {0: {'answer': 'hihihiiihih'}}, 'added_rows': [], 'deleted_rows': []}"
   ]
  },
  {
   "cell_type": "markdown",
   "metadata": {},
   "source": [
    "## Reset Index"
   ]
  },
  {
   "cell_type": "code",
   "execution_count": 29,
   "metadata": {},
   "outputs": [],
   "source": [
    "kb = RLKnowledgeBaseManager()\n"
   ]
  },
  {
   "cell_type": "code",
   "execution_count": 30,
   "metadata": {},
   "outputs": [],
   "source": [
    "index_name = \"fyp-sc1015-without-faqs\""
   ]
  },
  {
   "cell_type": "code",
   "execution_count": 31,
   "metadata": {},
   "outputs": [
    {
     "data": {
      "text/plain": [
       "True"
      ]
     },
     "execution_count": 31,
     "metadata": {},
     "output_type": "execute_result"
    }
   ],
   "source": [
    "kb.delete_index_function(index_name=index_name)"
   ]
  },
  {
   "cell_type": "code",
   "execution_count": 32,
   "metadata": {},
   "outputs": [
    {
     "data": {
      "text/plain": [
       "'fyp-sc1015-without-faqs'"
      ]
     },
     "execution_count": 32,
     "metadata": {},
     "output_type": "execute_result"
    }
   ],
   "source": [
    "# create new index\n",
    "kb.create_index(index_name=\"fyp-sc1015-without-faqs\")"
   ]
  },
  {
   "cell_type": "code",
   "execution_count": 33,
   "metadata": {},
   "outputs": [
    {
     "name": "stdout",
     "output_type": "stream",
     "text": [
      "added Lab Exercise 7 & Lab Exercise 8 Page.docx!\n",
      "added Course Information.docx!\n",
      "added Lab TA details - Information Page.csv!\n",
      "added Course Calendar.csv!\n",
      "added NTU Learn - Quiz Page.docx!\n",
      "added NTU Learn - Announcements Page.docx!\n",
      "added NTU Learn - Mini Project Page.docx!\n",
      "added readme.txt!\n",
      "added NTU Learn - Mini Project Page.pdf!\n",
      "added SC1015_BasicInformation.pdf!\n"
     ]
    },
    {
     "data": {
      "text/plain": [
       "True"
      ]
     },
     "execution_count": 33,
     "metadata": {},
     "output_type": "execute_result"
    }
   ],
   "source": [
    "# adding documents into ai search storage\n",
    "documents = []\n",
    "directory_path = \"/Users/bern/Documents/FYP/[CONFIDENTIAL] Chatlog and test documents/sc1015_documents/Without FAQS/\"\n",
    "for file_name in os.listdir(directory_path):\n",
    "    if not file_name.startswith((\"~\",\".\")):\n",
    "        doc = load_document(directory_path+file_name)\n",
    "        documents.append(doc)\n",
    "\n",
    "kb.add_or_update_docs(documents=documents, index_name=index_name)"
   ]
  },
  {
   "cell_type": "code",
   "execution_count": 34,
   "metadata": {},
   "outputs": [],
   "source": [
    "# reset documents\n",
    "import json\n",
    "# reset qna file\n",
    "qna_file = \"/Users/bern/Documents/GitHub/fyp-chatbot/db/asknarelle_qna.txt\"\n",
    "with open(qna_file, \"w\") as file:\n",
    "    file.write(\"\")\n"
   ]
  },
  {
   "cell_type": "code",
   "execution_count": 35,
   "metadata": {},
   "outputs": [
    {
     "name": "stdout",
     "output_type": "stream",
     "text": [
      "added asknarelle_qna.txt!\n"
     ]
    }
   ],
   "source": [
    "kb.update_qna_document(index_name=\"fyp-sc1015-without-faqs\")"
   ]
  },
  {
   "cell_type": "code",
   "execution_count": null,
   "metadata": {},
   "outputs": [],
   "source": []
  }
 ],
 "metadata": {
  "kernelspec": {
   "display_name": "fyp_chatbot_venv",
   "language": "python",
   "name": "python3"
  },
  "language_info": {
   "codemirror_mode": {
    "name": "ipython",
    "version": 3
   },
   "file_extension": ".py",
   "mimetype": "text/x-python",
   "name": "python",
   "nbconvert_exporter": "python",
   "pygments_lexer": "ipython3",
   "version": "3.13.0"
  }
 },
 "nbformat": 4,
 "nbformat_minor": 2
}
